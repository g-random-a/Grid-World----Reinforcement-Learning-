{
  "nbformat": 4,
  "nbformat_minor": 0,
  "metadata": {
    "colab": {
      "provenance": []
    },
    "kernelspec": {
      "name": "python3",
      "display_name": "Python 3"
    },
    "language_info": {
      "name": "python"
    }
  },
  "cells": [
    {
      "cell_type": "code",
      "source": [
        "!pip install gymnasium"
      ],
      "metadata": {
        "colab": {
          "base_uri": "https://localhost:8080/"
        },
        "id": "Ib2XlwW66M1s",
        "outputId": "84842e7a-2907-450f-e462-29f8b28708b3"
      },
      "execution_count": 1,
      "outputs": [
        {
          "output_type": "stream",
          "name": "stdout",
          "text": [
            "Collecting gymnasium\n",
            "  Downloading gymnasium-0.29.1-py3-none-any.whl (953 kB)\n",
            "\u001b[2K     \u001b[90m━━━━━━━━━━━━━━━━━━━━━━━━━━━━━━━━━━━━━━━━\u001b[0m \u001b[32m953.9/953.9 kB\u001b[0m \u001b[31m4.3 MB/s\u001b[0m eta \u001b[36m0:00:00\u001b[0m\n",
            "\u001b[?25hRequirement already satisfied: numpy>=1.21.0 in /usr/local/lib/python3.10/dist-packages (from gymnasium) (1.25.2)\n",
            "Requirement already satisfied: cloudpickle>=1.2.0 in /usr/local/lib/python3.10/dist-packages (from gymnasium) (2.2.1)\n",
            "Requirement already satisfied: typing-extensions>=4.3.0 in /usr/local/lib/python3.10/dist-packages (from gymnasium) (4.11.0)\n",
            "Collecting farama-notifications>=0.0.1 (from gymnasium)\n",
            "  Downloading Farama_Notifications-0.0.4-py3-none-any.whl (2.5 kB)\n",
            "Installing collected packages: farama-notifications, gymnasium\n",
            "Successfully installed farama-notifications-0.0.4 gymnasium-0.29.1\n"
          ]
        }
      ]
    },
    {
      "cell_type": "code",
      "execution_count": 2,
      "metadata": {
        "id": "FR4maBto6Hpd"
      },
      "outputs": [],
      "source": [
        "import gymnasium as gym\n",
        "import numpy as np\n",
        "import matplotlib.pyplot as plt\n",
        "import pickle"
      ]
    },
    {
      "cell_type": "code",
      "source": [
        "def perform_value_iteration(environment, tolerance=1e-6, gamma=0.9):\n",
        "    value_function = np.zeros(environment.observation_space.n)\n",
        "    while True:\n",
        "        delta = 0\n",
        "        for state in range(environment.observation_space.n):\n",
        "            old_value = value_function[state]\n",
        "            action_values = np.zeros(environment.action_space.n)\n",
        "            for action in range(environment.action_space.n):\n",
        "                for prob, next_state, reward, done in environment.P[state][action]:\n",
        "                    action_values[action] += prob * (reward + gamma * value_function[next_state])\n",
        "            value_function[state] = max(action_values)\n",
        "            delta = max(delta, abs(old_value - value_function[state]))\n",
        "        if delta < tolerance:\n",
        "            break\n",
        "\n",
        "    optimal_policy = np.zeros([environment.observation_space.n, environment.action_space.n])\n",
        "    for state in range(environment.observation_space.n):\n",
        "        action_values = np.zeros(environment.action_space.n)\n",
        "        for action in range(environment.action_space.n):\n",
        "            for prob, next_state, reward, done in environment.P[state][action]:\n",
        "                action_values[action] += prob * (reward + gamma * value_function[next_state])\n",
        "        best_action = np.argmax(action_values)\n",
        "        optimal_policy[state, best_action] = 1.0\n",
        "    return optimal_policy, value_function\n"
      ],
      "metadata": {
        "id": "QJl8qNDx6LeO"
      },
      "execution_count": 3,
      "outputs": []
    },
    {
      "cell_type": "code",
      "source": [
        "def run_simulation(num_episodes, visualize=False):\n",
        "    environment = gym.make('FrozenLake-v1', map_name=\"4x4\", is_slippery=True, render_mode='human' if visualize else None)\n",
        "\n",
        "    optimal_policy, optimal_value_function = perform_value_iteration(environment)\n",
        "\n",
        "    episode_rewards = np.zeros(num_episodes)\n",
        "\n",
        "    for episode in range(num_episodes):\n",
        "        state = environment.reset()[0]\n",
        "        game_finished = False\n",
        "        timeout_occurred = False\n",
        "\n",
        "        while not game_finished and not timeout_occurred:\n",
        "            action = np.argmax(optimal_policy[state])\n",
        "            next_state, reward, game_finished, timeout_occurred, _ = environment.step(action)\n",
        "            state = next_state\n",
        "\n",
        "        episode_rewards[episode] = reward\n",
        "\n",
        "    environment.close()\n",
        "\n",
        "    cumulative_rewards = np.zeros(num_episodes)\n",
        "    for i in range(num_episodes):\n",
        "        cumulative_rewards[i] = np.sum(episode_rewards[max(0, i - 100):(i + 1)])\n",
        "    plt.plot(cumulative_rewards)\n",
        "    plt.savefig('frozen_lake_value_iteration.png')\n",
        "\n",
        "    with open(\"frozen_lake_value_iteration_policy.pkl\", \"wb\") as file:\n",
        "        pickle.dump(optimal_policy, file)"
      ],
      "metadata": {
        "id": "OB1ehm9l7UCs"
      },
      "execution_count": 4,
      "outputs": []
    },
    {
      "cell_type": "code",
      "source": [
        "run_simulation(1500, visualize=True)"
      ],
      "metadata": {
        "colab": {
          "base_uri": "https://localhost:8080/",
          "height": 485
        },
        "id": "szS3M3OA7htr",
        "outputId": "bbd882eb-bfcf-4901-80f6-77aa02ac8291"
      },
      "execution_count": 6,
      "outputs": [
        {
          "output_type": "stream",
          "name": "stderr",
          "text": [
            "/usr/local/lib/python3.10/dist-packages/gymnasium/core.py:311: UserWarning: \u001b[33mWARN: env.P to get variables from other wrappers is deprecated and will be removed in v1.0, to get this variable you can do `env.unwrapped.P` for environment variables or `env.get_wrapper_attr('P')` that will search the reminding wrappers.\u001b[0m\n",
            "  logger.warn(\n"
          ]
        },
        {
          "output_type": "display_data",
          "data": {
            "text/plain": [
              "<Figure size 640x480 with 1 Axes>"
            ],
            "image/png": "[encoded data removed]"
          },
          "metadata": {}
        }
      ]
    }
  ]
}