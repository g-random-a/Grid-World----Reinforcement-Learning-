{
  "nbformat": 4,
  "nbformat_minor": 0,
  "metadata": {
    "colab": {
      "provenance": []
    },
    "kernelspec": {
      "name": "python3",
      "display_name": "Python 3"
    },
    "language_info": {
      "name": "python"
    }
  },
  "cells": [
    {
      "cell_type": "code",
      "source": [
        "!pip install gymnasium"
      ],
      "metadata": {
        "colab": {
          "base_uri": "https://localhost:8080/"
        },
        "id": "VdbnQ1Gt44Tv",
        "outputId": "6655d913-38c8-445e-d2eb-d83ba6c77b37"
      },
      "execution_count": 1,
      "outputs": [
        {
          "output_type": "stream",
          "name": "stdout",
          "text": [
            "Collecting gymnasium\n",
            "  Downloading gymnasium-0.29.1-py3-none-any.whl (953 kB)\n",
            "\u001b[?25l     \u001b[90m━━━━━━━━━━━━━━━━━━━━━━━━━━━━━━━━━━━━━━━━\u001b[0m \u001b[32m0.0/953.9 kB\u001b[0m \u001b[31m?\u001b[0m eta \u001b[36m-:--:--\u001b[0m\r\u001b[2K     \u001b[91m━━━━━\u001b[0m\u001b[90m╺\u001b[0m\u001b[90m━━━━━━━━━━━━━━━━━━━━━━━━━━━━━━━━━━\u001b[0m \u001b[32m122.9/953.9 kB\u001b[0m \u001b[31m3.6 MB/s\u001b[0m eta \u001b[36m0:00:01\u001b[0m\r\u001b[2K     \u001b[91m━━━━━━━━━━━━━━━━\u001b[0m\u001b[91m╸\u001b[0m\u001b[90m━━━━━━━━━━━━━━━━━━━━━━━\u001b[0m \u001b[32m399.4/953.9 kB\u001b[0m \u001b[31m5.6 MB/s\u001b[0m eta \u001b[36m0:00:01\u001b[0m\r\u001b[2K     \u001b[91m━━━━━━━━━━━━━━━━━━━━━━━━━━━━━\u001b[0m\u001b[90m╺\u001b[0m\u001b[90m━━━━━━━━━━\u001b[0m \u001b[32m696.3/953.9 kB\u001b[0m \u001b[31m6.6 MB/s\u001b[0m eta \u001b[36m0:00:01\u001b[0m\r\u001b[2K     \u001b[91m━━━━━━━━━━━━━━━━━━━━━━━━━━━━━━━━━━━━━━━\u001b[0m\u001b[91m╸\u001b[0m \u001b[32m952.3/953.9 kB\u001b[0m \u001b[31m7.2 MB/s\u001b[0m eta \u001b[36m0:00:01\u001b[0m\r\u001b[2K     \u001b[90m━━━━━━━━━━━━━━━━━━━━━━━━━━━━━━━━━━━━━━━━\u001b[0m \u001b[32m953.9/953.9 kB\u001b[0m \u001b[31m6.4 MB/s\u001b[0m eta \u001b[36m0:00:00\u001b[0m\n",
            "\u001b[?25hRequirement already satisfied: numpy>=1.21.0 in /usr/local/lib/python3.10/dist-packages (from gymnasium) (1.25.2)\n",
            "Requirement already satisfied: cloudpickle>=1.2.0 in /usr/local/lib/python3.10/dist-packages (from gymnasium) (2.2.1)\n",
            "Requirement already satisfied: typing-extensions>=4.3.0 in /usr/local/lib/python3.10/dist-packages (from gymnasium) (4.11.0)\n",
            "Collecting farama-notifications>=0.0.1 (from gymnasium)\n",
            "  Downloading Farama_Notifications-0.0.4-py3-none-any.whl (2.5 kB)\n",
            "Installing collected packages: farama-notifications, gymnasium\n",
            "Successfully installed farama-notifications-0.0.4 gymnasium-0.29.1\n"
          ]
        }
      ]
    },
    {
      "cell_type": "code",
      "execution_count": 2,
      "metadata": {
        "id": "_sMScDoP4P10"
      },
      "outputs": [],
      "source": [
        "import gymnasium as gym\n",
        "import numpy as np\n",
        "import matplotlib.pyplot as plt\n",
        "import pickle"
      ]
    },
    {
      "cell_type": "code",
      "source": [
        "def evaluate_policy(policy, environment, gamma=0.9, tolerance=1e-6):\n",
        "    value_function = np.zeros(environment.observation_space.n)\n",
        "    while True:\n",
        "        delta = 0\n",
        "        for state in range(environment.observation_space.n):\n",
        "            value = 0\n",
        "            for action, action_prob in enumerate(policy[state]):\n",
        "                for prob, next_state, reward, done in environment.P[state][action]:\n",
        "                    value += action_prob * prob * (reward + gamma * value_function[next_state])\n",
        "            delta = max(delta, abs(value - value_function[state]))\n",
        "            value_function[state] = value\n",
        "        if delta < tolerance:\n",
        "            break\n",
        "    return value_function\n"
      ],
      "metadata": {
        "id": "5uMJs2Zt4pnz"
      },
      "execution_count": 3,
      "outputs": []
    },
    {
      "cell_type": "code",
      "source": [
        "def improve_policy(environment, evaluate_policy_fn=evaluate_policy, gamma=0.9):\n",
        "    policy = np.ones([environment.observation_space.n, environment.action_space.n]) / environment.action_space.n\n",
        "    while True:\n",
        "        value_function = evaluate_policy_fn(policy, environment, gamma)\n",
        "        policy_stable = True\n",
        "        for state in range(environment.observation_space.n):\n",
        "            current_action = np.argmax(policy[state])\n",
        "            action_values = np.zeros(environment.action_space.n)\n",
        "            for action in range(environment.action_space.n):\n",
        "                for prob, next_state, reward, done in environment.P[state][action]:\n",
        "                    action_values[action] += prob * (reward + gamma * value_function[next_state])\n",
        "            best_action = np.argmax(action_values)\n",
        "            if current_action != best_action:\n",
        "                policy_stable = False\n",
        "            policy[state] = np.eye(environment.action_space.n)[best_action]\n",
        "        if policy_stable:\n",
        "            return policy, value_function\n",
        "\n"
      ],
      "metadata": {
        "id": "FBCErTix4rlh"
      },
      "execution_count": 4,
      "outputs": []
    },
    {
      "cell_type": "code",
      "source": [
        "def execute_episodes(num_episodes, visualize=False):\n",
        "    environment = gym.make('FrozenLake-v1', map_name=\"4x4\", is_slippery=True, render_mode='human' if visualize else None)\n",
        "\n",
        "    optimal_policy, optimal_value_function = improve_policy(environment)\n",
        "\n",
        "    episode_rewards = np.zeros(num_episodes)\n",
        "\n",
        "    for episode in range(num_episodes):\n",
        "        state = environment.reset()[0]\n",
        "        game_finished = False\n",
        "        timeout_occurred = False\n",
        "\n",
        "        while not game_finished and not timeout_occurred:\n",
        "            action = np.argmax(optimal_policy[state])\n",
        "            next_state, reward, game_finished, timeout_occurred, _ = environment.step(action)\n",
        "            state = next_state\n",
        "\n",
        "        episode_rewards[episode] = reward\n",
        "\n",
        "    environment.close()\n",
        "\n",
        "    reward_sum = np.zeros(num_episodes)\n",
        "    for i in range(num_episodes):\n",
        "        reward_sum[i] = np.sum(episode_rewards[max(0, i - 100):(i + 1)])\n",
        "    plt.plot(reward_sum)\n",
        "    plt.savefig('frozen_lake_policy_iteration.png')\n",
        "\n",
        "    with open(\"frozen_lake_policy_iteration_policy.pkl\", \"wb\") as file:\n",
        "        pickle.dump(optimal_policy, file)"
      ],
      "metadata": {
        "id": "F2evKQPR4twl"
      },
      "execution_count": 5,
      "outputs": []
    },
    {
      "cell_type": "code",
      "source": [
        "execute_episodes(1500, visualize=True)"
      ],
      "metadata": {
        "colab": {
          "base_uri": "https://localhost:8080/",
          "height": 430
        },
        "id": "gmKH5XgM4vsz",
        "outputId": "bc892bf8-feaf-4374-c426-a71d405f37b7"
      },
      "execution_count": 7,
      "outputs": [
        {
          "output_type": "display_data",
          "data": {
            "text/plain": [
              "<Figure size 640x480 with 1 Axes>"
            ],
            "image/png": "[encoded data removed]"
          },
          "metadata": {}
        }
      ]
    }
  ]
}