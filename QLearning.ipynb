{
  "nbformat": 4,
  "nbformat_minor": 0,
  "metadata": {
    "colab": {
      "provenance": []
    },
    "kernelspec": {
      "name": "python3",
      "display_name": "Python 3"
    },
    "language_info": {
      "name": "python"
    }
  },
  "cells": [
    {
      "cell_type": "code",
      "source": [
        "!pip install gymnasium"
      ],
      "metadata": {
        "colab": {
          "base_uri": "https://localhost:8080/"
        },
        "id": "2PcAsVGN2mzb",
        "outputId": "7c22ccab-feee-4d41-cac0-dada7aced3dc"
      },
      "execution_count": 1,
      "outputs": [
        {
          "output_type": "stream",
          "name": "stdout",
          "text": [
            "Collecting gymnasium\n",
            "  Downloading gymnasium-0.29.1-py3-none-any.whl (953 kB)\n",
            "\u001b[2K     \u001b[90m━━━━━━━━━━━━━━━━━━━━━━━━━━━━━━━━━━━━━━━━\u001b[0m \u001b[32m953.9/953.9 kB\u001b[0m \u001b[31m12.6 MB/s\u001b[0m eta \u001b[36m0:00:00\u001b[0m\n",
            "\u001b[?25hRequirement already satisfied: numpy>=1.21.0 in /usr/local/lib/python3.10/dist-packages (from gymnasium) (1.25.2)\n",
            "Requirement already satisfied: cloudpickle>=1.2.0 in /usr/local/lib/python3.10/dist-packages (from gymnasium) (2.2.1)\n",
            "Requirement already satisfied: typing-extensions>=4.3.0 in /usr/local/lib/python3.10/dist-packages (from gymnasium) (4.11.0)\n",
            "Collecting farama-notifications>=0.0.1 (from gymnasium)\n",
            "  Downloading Farama_Notifications-0.0.4-py3-none-any.whl (2.5 kB)\n",
            "Installing collected packages: farama-notifications, gymnasium\n",
            "Successfully installed farama-notifications-0.0.4 gymnasium-0.29.1\n"
          ]
        }
      ]
    },
    {
      "cell_type": "code",
      "source": [
        "import gymnasium as gym\n",
        "import numpy as np\n",
        "import matplotlib.pyplot as plt\n",
        "import pickle"
      ],
      "metadata": {
        "id": "CSLiP_Ax2-MI"
      },
      "execution_count": 2,
      "outputs": []
    },
    {
      "cell_type": "code",
      "execution_count": 3,
      "metadata": {
        "id": "kEB1B5o12adx"
      },
      "outputs": [],
      "source": [
        "def execute_simulation(total_episodes, training_mode=True, visualize=False):\n",
        "    environment = gym.make('FrozenLake-v1', map_name=\"4x4\", is_slippery=True, render_mode='human' if visualize else None)\n",
        "\n",
        "    if training_mode:\n",
        "        q_matrix = np.zeros((environment.observation_space.n, environment.action_space.n))\n",
        "    else:\n",
        "        with open('frozen_lake4x4.pkl', 'rb') as file:\n",
        "            q_matrix = pickle.load(file)\n",
        "\n",
        "    learning_rate = 0.9\n",
        "    discount_rate = 0.9\n",
        "    exploration_rate = 1.0\n",
        "    decay_rate = 0.0001\n",
        "    random_generator = np.random.default_rng()\n",
        "\n",
        "    episode_rewards = np.zeros(total_episodes)\n",
        "\n",
        "    for episode in range(total_episodes):\n",
        "        current_state = environment.reset()[0]\n",
        "        game_over = False\n",
        "        timeout = False\n",
        "\n",
        "        while not game_over and not timeout:\n",
        "            if training_mode and random_generator.random() < exploration_rate:\n",
        "                chosen_action = environment.action_space.sample()\n",
        "            else:\n",
        "                chosen_action = np.argmax(q_matrix[current_state, :])\n",
        "\n",
        "            next_state, reward, game_over, timeout, _ = environment.step(chosen_action)\n",
        "\n",
        "            if training_mode:\n",
        "                q_matrix[current_state, chosen_action] += learning_rate * (\n",
        "                    reward + discount_rate * np.max(q_matrix[next_state, :]) - q_matrix[current_state, chosen_action]\n",
        "                )\n",
        "\n",
        "            current_state = next_state\n",
        "\n",
        "        exploration_rate = max(exploration_rate - decay_rate, 0)\n",
        "\n",
        "        if exploration_rate == 0:\n",
        "            learning_rate = 0.0001\n",
        "\n",
        "        episode_rewards[episode] = reward\n",
        "\n",
        "    environment.close()\n",
        "\n",
        "    accumulated_rewards = np.zeros(total_episodes)\n",
        "    for i in range(total_episodes):\n",
        "        accumulated_rewards[i] = np.sum(episode_rewards[max(0, i - 100):(i + 1)])\n",
        "    plt.plot(accumulated_rewards)\n",
        "    plt.savefig('frozen_lake4x4.png')\n",
        "\n",
        "    if training_mode:\n",
        "        with open(\"frozen_lake4x4.pkl\", \"wb\") as file:\n",
        "            pickle.dump(q_matrix, file)\n"
      ]
    },
    {
      "cell_type": "code",
      "source": [
        "execute_simulation(1000, training_mode=True, visualize=True)"
      ],
      "metadata": {
        "id": "QlhLfbzp3DDw"
      },
      "execution_count": null,
      "outputs": []
    }
  ]
}